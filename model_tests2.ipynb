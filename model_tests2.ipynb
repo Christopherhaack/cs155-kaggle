{
 "cells": [
  {
   "cell_type": "code",
   "execution_count": 12,
   "metadata": {
    "collapsed": true
   },
   "outputs": [],
   "source": [
    "import numpy as np\n",
    "from sklearn.ensemble import RandomForestClassifier\n",
    "from sklearn.model_selection import GridSearchCV\n",
    "from sklearn.externals import joblib\n",
    "from sklearn.model_selection import cross_val_score\n",
    "from data_utils import load_train, load_test, write_test"
   ]
  },
  {
   "cell_type": "code",
   "execution_count": 6,
   "metadata": {
    "collapsed": false
   },
   "outputs": [],
   "source": [
    "X, y = load_train('./data/train_2008.csv', False)\n",
    "    \n",
    "param_grid = {\n",
    "    'criterion':  ['entropy'],\n",
    "    'n_estimators': [1000],\n",
    "    'max_depth': [ 20],\n",
    "    'max_features': [None, 'auto', 'sqrt', 'log2'],\n",
    "}\n",
    "\n"
   ]
  },
  {
   "cell_type": "code",
   "execution_count": 7,
   "metadata": {
    "collapsed": false
   },
   "outputs": [
    {
     "name": "stdout",
     "output_type": "stream",
     "text": [
      "Fitting 3 folds for each of 4 candidates, totalling 12 fits\n",
      "[CV] max_features=None, n_estimators=1000, criterion=entropy, max_depth=20 \n",
      "[CV] max_features=None, n_estimators=1000, criterion=entropy, max_depth=20 \n",
      "[CV] max_features=None, n_estimators=1000, criterion=entropy, max_depth=20 \n",
      "[CV] max_features=auto, n_estimators=1000, criterion=entropy, max_depth=20 \n",
      "[CV]  max_features=auto, n_estimators=1000, criterion=entropy, max_depth=20, total= 5.8min\n",
      "[CV] max_features=auto, n_estimators=1000, criterion=entropy, max_depth=20 \n",
      "[CV]  max_features=auto, n_estimators=1000, criterion=entropy, max_depth=20, total= 4.7min\n",
      "[CV] max_features=auto, n_estimators=1000, criterion=entropy, max_depth=20 \n",
      "[CV]  max_features=auto, n_estimators=1000, criterion=entropy, max_depth=20, total= 3.8min\n",
      "[CV] max_features=sqrt, n_estimators=1000, criterion=entropy, max_depth=20 \n",
      "[CV]  max_features=sqrt, n_estimators=1000, criterion=entropy, max_depth=20, total= 3.8min\n",
      "[CV] max_features=sqrt, n_estimators=1000, criterion=entropy, max_depth=20 \n",
      "[CV]  max_features=sqrt, n_estimators=1000, criterion=entropy, max_depth=20, total= 3.8min\n",
      "[CV] max_features=sqrt, n_estimators=1000, criterion=entropy, max_depth=20 \n",
      "[CV]  max_features=sqrt, n_estimators=1000, criterion=entropy, max_depth=20, total= 6.3min\n",
      "[CV] max_features=log2, n_estimators=1000, criterion=entropy, max_depth=20 \n",
      "[CV]  max_features=log2, n_estimators=1000, criterion=entropy, max_depth=20, total= 4.1min\n",
      "[CV] max_features=log2, n_estimators=1000, criterion=entropy, max_depth=20 \n",
      "[CV]  max_features=log2, n_estimators=1000, criterion=entropy, max_depth=20, total= 4.2min\n",
      "[CV] max_features=log2, n_estimators=1000, criterion=entropy, max_depth=20 \n",
      "[CV]  max_features=log2, n_estimators=1000, criterion=entropy, max_depth=20, total= 3.9min\n",
      "[CV]  max_features=None, n_estimators=1000, criterion=entropy, max_depth=20, total=72.6min\n",
      "[CV]  max_features=None, n_estimators=1000, criterion=entropy, max_depth=20, total=73.1min\n",
      "[CV]  max_features=None, n_estimators=1000, criterion=entropy, max_depth=20, total=73.6min\n"
     ]
    },
    {
     "name": "stderr",
     "output_type": "stream",
     "text": [
      "[Parallel(n_jobs=4)]: Done  12 out of  12 | elapsed: 73.8min remaining:    0.0s\n",
      "[Parallel(n_jobs=4)]: Done  12 out of  12 | elapsed: 73.8min finished\n"
     ]
    },
    {
     "name": "stdout",
     "output_type": "stream",
     "text": [
      "Best Error: 0.780506\n",
      "Best Model: {'max_features': None, 'n_estimators': 1000, 'criterion': 'entropy', 'max_depth': 20}\n"
     ]
    }
   ],
   "source": [
    "rfc = RandomForestClassifier()\n",
    "clf = GridSearchCV(estimator=rfc, scoring='accuracy', param_grid=param_grid, \n",
    "                   n_jobs=4, verbose=2)\n",
    "clf.fit(X, y)\n",
    "\n",
    "\n",
    "print('Best Error: %f' %(clf.best_score_))\n",
    "print('Best Model: %s' %(clf.best_params_))"
   ]
  },
  {
   "cell_type": "code",
   "execution_count": 8,
   "metadata": {
    "collapsed": false
   },
   "outputs": [
    {
     "data": {
      "text/plain": [
       "array([ 0.78050629,  0.77690321,  0.7771661 ,  0.76975892])"
      ]
     },
     "execution_count": 8,
     "metadata": {},
     "output_type": "execute_result"
    }
   ],
   "source": [
    "clf.cv_results_['mean_test_score']"
   ]
  },
  {
   "cell_type": "code",
   "execution_count": 10,
   "metadata": {
    "collapsed": false
   },
   "outputs": [
    {
     "data": {
      "text/plain": [
       "RandomForestClassifier(bootstrap=True, class_weight=None, criterion='entropy',\n",
       "            max_depth=25, max_features=None, max_leaf_nodes=None,\n",
       "            min_impurity_split=1e-07, min_samples_leaf=1,\n",
       "            min_samples_split=2, min_weight_fraction_leaf=0.0,\n",
       "            n_estimators=1000, n_jobs=1, oob_score=False,\n",
       "            random_state=None, verbose=0, warm_start=False)"
      ]
     },
     "execution_count": 10,
     "metadata": {},
     "output_type": "execute_result"
    }
   ],
   "source": [
    "clf2= RandomForestClassifier(criterion = 'entropy',n_estimators = 1000, max_depth = 25,max_features = None)\n",
    "clf2.fit(X,y)"
   ]
  },
  {
   "cell_type": "code",
   "execution_count": null,
   "metadata": {
    "collapsed": false
   },
   "outputs": [],
   "source": [
    "scores = cross_val_score(clf2,X,y,cv = 5)"
   ]
  },
  {
   "cell_type": "code",
   "execution_count": null,
   "metadata": {
    "collapsed": true
   },
   "outputs": [],
   "source": [
    "scores.mean()"
   ]
  }
 ],
 "metadata": {
  "kernelspec": {
   "display_name": "Python [Root]",
   "language": "python",
   "name": "Python [Root]"
  },
  "language_info": {
   "codemirror_mode": {
    "name": "ipython",
    "version": 2
   },
   "file_extension": ".py",
   "mimetype": "text/x-python",
   "name": "python",
   "nbconvert_exporter": "python",
   "pygments_lexer": "ipython2",
   "version": "2.7.12"
  }
 },
 "nbformat": 4,
 "nbformat_minor": 0
}
